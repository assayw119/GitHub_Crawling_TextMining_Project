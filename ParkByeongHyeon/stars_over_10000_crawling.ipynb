{
 "cells": [
  {
   "cell_type": "code",
   "execution_count": 1,
   "metadata": {},
   "outputs": [],
   "source": [
    "import requests\n",
    "from bs4 import BeautifulSoup\n",
    "import lxml\n",
    "from selenium import webdriver\n",
    "import time\n",
    "from selenium.webdriver.common.by import By\n",
    "from selenium.webdriver.support.ui import WebDriverWait\n",
    "from selenium.webdriver.support import expected_conditions as EC\n",
    "import pandas as pd\n",
    "import numpy as np"
   ]
  },
  {
   "cell_type": "code",
   "execution_count": 2,
   "metadata": {},
   "outputs": [],
   "source": [
    "url = \"https://github.com/search?p=1&q=stars%3A%3E10000&type=Repositories\"\n",
    "# 내 컴퓨터의 User_Agent\n",
    "headers={\"User-Agent\":\"Mozilla/5.0 (Macintosh; Intel Mac OS X 10_15_7) AppleWebKit/537.36 (KHTML, like Gecko) Chrome/92.0.4515.159 Safari/537.36\"}\n",
    "# res= requests.get(url,headers=headers)\n",
    "# res.raise_for_status()\n",
    "# soup=BeautifulSoup(res.text,\"lxml\")\n",
    "# soup"
   ]
  },
  {
   "cell_type": "code",
   "execution_count": 3,
   "metadata": {},
   "outputs": [],
   "source": [
    "# options = webdriver.ChromeOptions()\n",
    "# # headless option임\n",
    "\n",
    "# # options.add_argument(\"headless\")\n",
    "# # browser = webdriver.Chrome(\"./chromedriver\",options=options)\n",
    "# browser = webdriver.Chrome(\"./chromedriver\")\n",
    "# browser.get(url)\n",
    "# soup = BeautifulSoup(browser.page_source,'lxml')"
   ]
  },
  {
   "cell_type": "code",
   "execution_count": 5,
   "metadata": {},
   "outputs": [
    {
     "name": "stdout",
     "output_type": "stream",
     "text": [
      "https://github.com/search?p=1&q=stars%3A%3E10000&type=Repositories\n",
      "freeCodeCamp/freeCodeCamp\n",
      "996icu/996.ICU\n",
      "EbookFoundation/free-programming-books\n",
      "jwasham/coding-interview-university\n",
      "vuejs/vue\n",
      "facebook/react\n",
      "kamranahmedse/developer-roadmap\n",
      "sindresorhus/awesome\n",
      "tensorflow/tensorflow\n",
      "public-apis/public-apis\n",
      "https://github.com/search?p=2&q=stars%3A%3E10000&type=Repositories\n",
      "twbs/bootstrap\n",
      "donnemartin/system-design-primer\n",
      "getify/You-Dont-Know-JS\n",
      "CyC2018/CS-Notes\n",
      "ohmyzsh/ohmyzsh\n",
      "flutter/flutter\n",
      "github/gitignore\n",
      "microsoft/vscode\n",
      "trekhleb/javascript-algorithms\n",
      "torvalds/linux\n",
      "https://github.com/search?p=3&q=stars%3A%3E10000&type=Repositories\n",
      "TheAlgorithms/Python\n",
      "danistefanovic/build-your-own-x\n",
      "airbnb/javascript\n",
      "Snailclimb/JavaGuide\n",
      "jackfrued/Python-100-Days\n",
      "vinta/awesome-python\n",
      "ytdl-org/youtube-dl\n",
      "d3/d3\n",
      "facebook/react-native\n",
      "electron/electron\n",
      "https://github.com/search?p=4&q=stars%3A%3E10000&type=Repositories\n",
      "labuladong/fucking-algorithm\n",
      "ossu/computer-science\n",
      "jlevy/the-art-of-command-line\n",
      "facebook/create-react-app\n",
      "golang/go\n",
      "axios/axios\n",
      "30-seconds/30-seconds-of-code\n",
      "justjavac/free-programming-books-zh_CN\n",
      "nodejs/node\n",
      "kubernetes/kubernetes\n"
     ]
    }
   ],
   "source": [
    "def crawling_func(url):\n",
    "    print(url)\n",
    "    try:\n",
    "        res = requests.get(url,headers=headers)\n",
    "        res.raise_for_status()\n",
    "        soup = BeautifulSoup(res.text,\"lxml\")\n",
    "        p = soup.find_all(\"a\",attrs={\"class\":\"v-align-middle\"}) \n",
    "    except:\n",
    "        time.sleep(1)\n",
    "        crawling_func(url) # 오류를 대비하기위해 재귀함수 호출\n",
    "        pass\n",
    "    finally:\n",
    "        return p\n",
    "    \n",
    "topic_ads = []\n",
    "pages = 4\n",
    "for i in range(1,pages+1):# x 페이지까지 탐색\n",
    "    url = \"https://github.com/search?p={}&q=stars%3A%3E10000&type=Repositories\".format(i) # 페이지 formatting\n",
    "    time.sleep(15)  # 10초를 쉬어도 오류가 떴었음\n",
    "    for j in crawling_func(url):\n",
    "        topic_ads.append(j.get_text())\n",
    "        print(j.get_text())\n",
    "topic_ads"
   ]
  },
  {
   "cell_type": "code",
   "execution_count": null,
   "metadata": {},
   "outputs": [],
   "source": [
    "# topic_ads\n",
    "len(topic_ads)\n",
    "\n"
   ]
  },
  {
   "cell_type": "code",
   "execution_count": null,
   "metadata": {},
   "outputs": [],
   "source": [
    "topics_dic = {}\n",
    "topics_list = []\n",
    "for ad in topic_ads:\n",
    "    url_topic = \"https://github.com/\" + ad\n",
    "    res_topic = requests.get(url_topic,headers=headers)\n",
    "    res_topic.raise_for_status()\n",
    "    soup_topic = BeautifulSoup(res_topic.text,\"lxml\")\n",
    "    \n",
    "    topic = soup_topic.find(\"div\",attrs={\"class\":\"BorderGrid-cell\"}).find_all(\"a\",attrs={\"class\":\"topic-tag topic-tag-link\"})\n",
    "    project_topics=[i.get_text().replace(\"\\n\",\"\").replace(\"\\t\",\"\").strip() for i in topic]\n",
    "    \n",
    "    topics_list.append([ad,project_topics])\n",
    "    \n",
    "    for t in project_topics:\n",
    "        if t in topics_dic:\n",
    "            topics_dic[t] += 1\n",
    "        else:\n",
    "            topics_dic[t] = 1\n",
    "topics_dic"
   ]
  },
  {
   "cell_type": "code",
   "execution_count": null,
   "metadata": {},
   "outputs": [],
   "source": [
    "# value로 내림차순 정렬\n",
    "topics_dic= sorted(topics_dic.items(), key=lambda x: x[1], reverse=True)\n",
    "topics_dic"
   ]
  },
  {
   "cell_type": "code",
   "execution_count": null,
   "metadata": {},
   "outputs": [],
   "source": [
    "df = pd.DataFrame(topics_dic)\n",
    "df.head(20)"
   ]
  },
  {
   "cell_type": "code",
   "execution_count": null,
   "metadata": {},
   "outputs": [],
   "source": [
    "# 엑셀로 저장하기\n",
    "df.to_excel('Topics_stars:>10000.xlsx',index=False)"
   ]
  },
  {
   "cell_type": "code",
   "execution_count": null,
   "metadata": {},
   "outputs": [],
   "source": [
    "df_topic2 = pd.DataFrame(topics_list,columns=['project_name','topic_keyword'])\n",
    "df_topic2.head(20)"
   ]
  },
  {
   "cell_type": "code",
   "execution_count": null,
   "metadata": {},
   "outputs": [],
   "source": [
    "# 엑셀로 저장하기\n",
    "df_topic2.to_excel('Topics_stars10000_project_keyword.xlsx',index=False)"
   ]
  },
  {
   "cell_type": "code",
   "execution_count": null,
   "metadata": {},
   "outputs": [],
   "source": [
    "df_topic2 = pd.read_excel('Topics_stars10000_project_keyword.xlsx')\n",
    "# df_topic2.head(60)\n"
   ]
  }
 ],
 "metadata": {
  "kernelspec": {
   "display_name": "Python 3",
   "language": "python",
   "name": "python3"
  },
  "language_info": {
   "codemirror_mode": {
    "name": "ipython",
    "version": 3
   },
   "file_extension": ".py",
   "mimetype": "text/x-python",
   "name": "python",
   "nbconvert_exporter": "python",
   "pygments_lexer": "ipython3",
   "version": "3.8.5"
  }
 },
 "nbformat": 4,
 "nbformat_minor": 4
}
