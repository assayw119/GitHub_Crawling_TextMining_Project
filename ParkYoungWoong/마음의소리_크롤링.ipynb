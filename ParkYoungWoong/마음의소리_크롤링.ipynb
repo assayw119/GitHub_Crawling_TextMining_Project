{
 "cells": [
  {
   "cell_type": "code",
   "execution_count": 2,
   "metadata": {},
   "outputs": [],
   "source": [
    "import re\n",
    "import requests\n",
    "from bs4 import BeautifulSoup"
   ]
  },
  {
   "cell_type": "code",
   "execution_count": 3,
   "metadata": {},
   "outputs": [
    {
     "name": "stdout",
     "output_type": "stream",
     "text": [
      "1\n",
      "2\n",
      "3\n",
      "4\n",
      "5\n",
      "6\n",
      "7\n",
      "8\n",
      "9\n",
      "10\n",
      "11\n",
      "12\n",
      "13\n",
      "14\n",
      "15\n",
      "16\n",
      "17\n",
      "18\n",
      "19\n",
      "20\n",
      "21\n",
      "22\n",
      "23\n",
      "24\n",
      "25\n",
      "26\n",
      "27\n",
      "28\n",
      "29\n",
      "30\n",
      "31\n",
      "32\n",
      "33\n",
      "34\n",
      "35\n",
      "36\n",
      "37\n",
      "38\n",
      "39\n",
      "40\n",
      "41\n",
      "42\n"
     ]
    }
   ],
   "source": [
    "base_url = 'https://www.sisul.or.kr'\n",
    "url = 'https://www.sisul.or.kr/open_content/calltaxi/qna/qnaMsgList.do'\n",
    "\n",
    "result = []\n",
    "for n in range(1, 43):\n",
    "    print(n)\n",
    "    params = {\n",
    "        'pgno' : n\n",
    "    }\n",
    "    resp= requests.get(url, params = params)\n",
    "    soup = BeautifulSoup(resp.content, 'html.parser')\n",
    "    contents = soup.find('div', class_ = \"generalboard\").find('tbody')\n",
    "    for c in contents.find_all('a'):\n",
    "        t = c.text\n",
    "        #print(t)\n",
    "        if '칭찬' in t: continue\n",
    "        elif '감사' in t: continue\n",
    "        elif '고맙' in t: continue\n",
    "        else:\n",
    "            sub_url = base_url + c['href']\n",
    "            sub_res = requests.get(sub_url)\n",
    "            sub_soup = BeautifulSoup(sub_res.content, 'html.parser')\n",
    "            message = sub_soup.find('tbody').find('td', colspan=\"3\").text\n",
    "            if '칭찬' in message : continue\n",
    "            elif '감사' in message : continue\n",
    "            elif '고맙' in message : continue\n",
    "            else:\n",
    "                result.append([t, message])"
   ]
  },
  {
   "cell_type": "code",
   "execution_count": 3,
   "metadata": {},
   "outputs": [
    {
     "data": {
      "text/plain": [
       "233"
      ]
     },
     "execution_count": 3,
     "metadata": {},
     "output_type": "execute_result"
    }
   ],
   "source": [
    "len(result)"
   ]
  },
  {
   "cell_type": "code",
   "execution_count": 61,
   "metadata": {},
   "outputs": [],
   "source": [
    "import csv\n",
    "with open('data.csv', 'w', newline = '', encoding = 'utf-8-sig') as f:\n",
    "    writer = csv.writer(f)\n",
    "    for t, m in result:\n",
    "        writer.writerow([t,m])"
   ]
  },
  {
   "cell_type": "code",
   "execution_count": null,
   "metadata": {},
   "outputs": [],
   "source": [
    "n = 1\n",
    "url = 'https://www.sisul.or.kr/open_content/calltaxi/qna/qnaMsgList.do'\n",
    "params = {\n",
    "    'pgno' : n\n",
    "}"
   ]
  },
  {
   "cell_type": "code",
   "execution_count": 8,
   "metadata": {},
   "outputs": [
    {
     "data": {
      "text/plain": [
       "<Response [200]>"
      ]
     },
     "execution_count": 8,
     "metadata": {},
     "output_type": "execute_result"
    }
   ],
   "source": [
    "resp= requests.get(url, params = params)\n",
    "resp"
   ]
  },
  {
   "cell_type": "code",
   "execution_count": 11,
   "metadata": {},
   "outputs": [],
   "source": [
    "soup = BeautifulSoup(resp.content, 'html.parser')\n",
    "contents = soup.find('div', class_ = \"generalboard\").find('tbody')"
   ]
  },
  {
   "cell_type": "code",
   "execution_count": 12,
   "metadata": {},
   "outputs": [
    {
     "data": {
      "text/plain": [
       "<tbody>\n",
       "<tr>\n",
       "<td class=\"dp_pc\">415</td>\n",
       "<td class=\"left title\">\n",
       "<a href=\"/open_content/calltaxi/qna/qnaMsgDetail.do;jsessionid=Nns2ptO4fH8XEyKaSKPYpPtRTpEqm0bA3WQD4c0DuIJu2IaJp32xopbNhT414hjb.etisw2_servlet_user?qnaid=QNAS20210802000003&amp;pgno=1\">77라3586 인정호운전자님 징찬합니다</a>\n",
       "</td>\n",
       "<td class=\"dp_pc\">2021.08.02</td>\n",
       "<td>처리중</td>\n",
       "<td class=\"dp_pc\">11</td>\n",
       "</tr>\n",
       "<tr>\n",
       "<td class=\"dp_pc\">414</td>\n",
       "<td class=\"left title\">\n",
       "<a href=\"/open_content/calltaxi/qna/qnaMsgDetail.do;jsessionid=Nns2ptO4fH8XEyKaSKPYpPtRTpEqm0bA3WQD4c0DuIJu2IaJp32xopbNhT414hjb.etisw2_servlet_user?qnaid=QNAS20210729000007&amp;pgno=1\">72우1553최장철기사님을칭찬합니다.</a>\n",
       "</td>\n",
       "<td class=\"dp_pc\">2021.07.29</td>\n",
       "<td>답변완료</td>\n",
       "<td class=\"dp_pc\">49</td>\n",
       "</tr>\n",
       "<tr>\n",
       "<td class=\"dp_pc\">413</td>\n",
       "<td class=\"left title\">\n",
       "<a href=\"/open_content/calltaxi/qna/qnaMsgDetail.do;jsessionid=Nns2ptO4fH8XEyKaSKPYpPtRTpEqm0bA3WQD4c0DuIJu2IaJp32xopbNhT414hjb.etisw2_servlet_user?qnaid=QNAS20210728000003&amp;pgno=1\"> 전일 접수 예약제(7시, 8시, 10시) rhksfus</a>\n",
       "</td>\n",
       "<td class=\"dp_pc\">2021.07.28</td>\n",
       "<td>답변완료</td>\n",
       "<td class=\"dp_pc\">92</td>\n",
       "</tr>\n",
       "<tr>\n",
       "<td class=\"dp_pc\">412</td>\n",
       "<td class=\"left title\">\n",
       "<a href=\"/open_content/calltaxi/qna/qnaMsgDetail.do;jsessionid=Nns2ptO4fH8XEyKaSKPYpPtRTpEqm0bA3WQD4c0DuIJu2IaJp32xopbNhT414hjb.etisw2_servlet_user?qnaid=QNAS20210728000002&amp;pgno=1\">78무4545김영자 기사님</a>\n",
       "</td>\n",
       "<td class=\"dp_pc\">2021.07.28</td>\n",
       "<td>답변완료</td>\n",
       "<td class=\"dp_pc\">71</td>\n",
       "</tr>\n",
       "<tr>\n",
       "<td class=\"dp_pc\">411</td>\n",
       "<td class=\"left title\">\n",
       "<a href=\"/open_content/calltaxi/qna/qnaMsgDetail.do;jsessionid=Nns2ptO4fH8XEyKaSKPYpPtRTpEqm0bA3WQD4c0DuIJu2IaJp32xopbNhT414hjb.etisw2_servlet_user?qnaid=QNAS20210727000002&amp;pgno=1\">서울32자1075박순배기사님을칭찬합니다.</a>\n",
       "</td>\n",
       "<td class=\"dp_pc\">2021.07.27</td>\n",
       "<td>답변완료</td>\n",
       "<td class=\"dp_pc\">56</td>\n",
       "</tr>\n",
       "<tr>\n",
       "<td class=\"dp_pc\">410</td>\n",
       "<td class=\"left title\">\n",
       "<a href=\"/open_content/calltaxi/qna/qnaMsgDetail.do;jsessionid=Nns2ptO4fH8XEyKaSKPYpPtRTpEqm0bA3WQD4c0DuIJu2IaJp32xopbNhT414hjb.etisw2_servlet_user?qnaid=QNAS20210726000001&amp;pgno=1\">77라 7655 기사님 칭찬합니당</a>\n",
       "</td>\n",
       "<td class=\"dp_pc\">2021.07.26</td>\n",
       "<td>답변완료</td>\n",
       "<td class=\"dp_pc\">87</td>\n",
       "</tr>\n",
       "<tr>\n",
       "<td class=\"dp_pc\">409</td>\n",
       "<td class=\"left title\">\n",
       "<a href=\"/open_content/calltaxi/qna/qnaMsgDetail.do;jsessionid=Nns2ptO4fH8XEyKaSKPYpPtRTpEqm0bA3WQD4c0DuIJu2IaJp32xopbNhT414hjb.etisw2_servlet_user?qnaid=QNAS20210724000003&amp;pgno=1\">75마5794설평권기사님을칭찬합니다.</a>\n",
       "</td>\n",
       "<td class=\"dp_pc\">2021.07.24</td>\n",
       "<td>답변완료</td>\n",
       "<td class=\"dp_pc\">79</td>\n",
       "</tr>\n",
       "<tr>\n",
       "<td class=\"dp_pc\">408</td>\n",
       "<td class=\"left title\">\n",
       "<a href=\"/open_content/calltaxi/qna/qnaMsgDetail.do;jsessionid=Nns2ptO4fH8XEyKaSKPYpPtRTpEqm0bA3WQD4c0DuIJu2IaJp32xopbNhT414hjb.etisw2_servlet_user?qnaid=QNAS20210719000002&amp;pgno=1\">7월 19일 월요일 첫 콜을 타고 난 후 ~</a>\n",
       "</td>\n",
       "<td class=\"dp_pc\">2021.07.19</td>\n",
       "<td>답변완료</td>\n",
       "<td class=\"dp_pc\">196</td>\n",
       "</tr>\n",
       "<tr>\n",
       "<td class=\"dp_pc\">407</td>\n",
       "<td class=\"left title\">\n",
       "<a href=\"/open_content/calltaxi/qna/qnaMsgDetail.do;jsessionid=Nns2ptO4fH8XEyKaSKPYpPtRTpEqm0bA3WQD4c0DuIJu2IaJp32xopbNhT414hjb.etisw2_servlet_user?qnaid=QNAS20210713000006&amp;pgno=1\">누구의기준인가?</a>\n",
       "</td>\n",
       "<td class=\"dp_pc\">2021.07.13</td>\n",
       "<td>답변완료</td>\n",
       "<td class=\"dp_pc\">286</td>\n",
       "</tr>\n",
       "<tr>\n",
       "<td class=\"dp_pc\">406</td>\n",
       "<td class=\"left title\">\n",
       "<a href=\"/open_content/calltaxi/qna/qnaMsgDetail.do;jsessionid=Nns2ptO4fH8XEyKaSKPYpPtRTpEqm0bA3WQD4c0DuIJu2IaJp32xopbNhT414hjb.etisw2_servlet_user?qnaid=QNAS20210710000002&amp;pgno=1\">면목차고지휴무전담이영진기사님을칭찬합니다.</a>\n",
       "</td>\n",
       "<td class=\"dp_pc\">2021.07.10</td>\n",
       "<td>답변완료</td>\n",
       "<td class=\"dp_pc\">184</td>\n",
       "</tr>\n",
       "</tbody>"
      ]
     },
     "execution_count": 12,
     "metadata": {},
     "output_type": "execute_result"
    }
   ],
   "source": [
    "contents"
   ]
  },
  {
   "cell_type": "code",
   "execution_count": 22,
   "metadata": {},
   "outputs": [
    {
     "name": "stdout",
     "output_type": "stream",
     "text": [
      "/open_content/calltaxi/qna/qnaMsgDetail.do;jsessionid=Nns2ptO4fH8XEyKaSKPYpPtRTpEqm0bA3WQD4c0DuIJu2IaJp32xopbNhT414hjb.etisw2_servlet_user?qnaid=QNAS20210802000003&pgno=1\n",
      "/open_content/calltaxi/qna/qnaMsgDetail.do;jsessionid=Nns2ptO4fH8XEyKaSKPYpPtRTpEqm0bA3WQD4c0DuIJu2IaJp32xopbNhT414hjb.etisw2_servlet_user?qnaid=QNAS20210729000007&pgno=1\n",
      "/open_content/calltaxi/qna/qnaMsgDetail.do;jsessionid=Nns2ptO4fH8XEyKaSKPYpPtRTpEqm0bA3WQD4c0DuIJu2IaJp32xopbNhT414hjb.etisw2_servlet_user?qnaid=QNAS20210728000003&pgno=1\n",
      "/open_content/calltaxi/qna/qnaMsgDetail.do;jsessionid=Nns2ptO4fH8XEyKaSKPYpPtRTpEqm0bA3WQD4c0DuIJu2IaJp32xopbNhT414hjb.etisw2_servlet_user?qnaid=QNAS20210728000002&pgno=1\n",
      "/open_content/calltaxi/qna/qnaMsgDetail.do;jsessionid=Nns2ptO4fH8XEyKaSKPYpPtRTpEqm0bA3WQD4c0DuIJu2IaJp32xopbNhT414hjb.etisw2_servlet_user?qnaid=QNAS20210727000002&pgno=1\n",
      "/open_content/calltaxi/qna/qnaMsgDetail.do;jsessionid=Nns2ptO4fH8XEyKaSKPYpPtRTpEqm0bA3WQD4c0DuIJu2IaJp32xopbNhT414hjb.etisw2_servlet_user?qnaid=QNAS20210726000001&pgno=1\n",
      "/open_content/calltaxi/qna/qnaMsgDetail.do;jsessionid=Nns2ptO4fH8XEyKaSKPYpPtRTpEqm0bA3WQD4c0DuIJu2IaJp32xopbNhT414hjb.etisw2_servlet_user?qnaid=QNAS20210724000003&pgno=1\n",
      "/open_content/calltaxi/qna/qnaMsgDetail.do;jsessionid=Nns2ptO4fH8XEyKaSKPYpPtRTpEqm0bA3WQD4c0DuIJu2IaJp32xopbNhT414hjb.etisw2_servlet_user?qnaid=QNAS20210719000002&pgno=1\n",
      "/open_content/calltaxi/qna/qnaMsgDetail.do;jsessionid=Nns2ptO4fH8XEyKaSKPYpPtRTpEqm0bA3WQD4c0DuIJu2IaJp32xopbNhT414hjb.etisw2_servlet_user?qnaid=QNAS20210713000006&pgno=1\n",
      "/open_content/calltaxi/qna/qnaMsgDetail.do;jsessionid=Nns2ptO4fH8XEyKaSKPYpPtRTpEqm0bA3WQD4c0DuIJu2IaJp32xopbNhT414hjb.etisw2_servlet_user?qnaid=QNAS20210710000002&pgno=1\n"
     ]
    }
   ],
   "source": [
    "for c in contents.find_all('a'):\n",
    "    print(c['href'])\n",
    "#     t = c.text\n",
    "#     if '칭찬' in t: continue\n",
    "#     elif '감사' in t: continue\n",
    "#     else:\n",
    "#         print(t)"
   ]
  },
  {
   "cell_type": "code",
   "execution_count": 26,
   "metadata": {},
   "outputs": [],
   "source": [
    "a = base_url + '/open_content/calltaxi/qna/qnaMsgDetail.do;jsessionid=Nns2ptO4fH8XEyKaSKPYpPtRTpEqm0bA3WQD4c0DuIJu2IaJp32xopbNhT414hjb.etisw2_servlet_user?qnaid=QNAS20210802000003&pgno=1'\n"
   ]
  },
  {
   "cell_type": "code",
   "execution_count": 28,
   "metadata": {},
   "outputs": [
    {
     "data": {
      "text/plain": [
       "'https://www.sisul.or.kr/open_content/calltaxi/qna/qnaMsgDetail.do;jsessionid=Nns2ptO4fH8XEyKaSKPYpPtRTpEqm0bA3WQD4c0DuIJu2IaJp32xopbNhT414hjb.etisw2_servlet_user?qnaid=QNAS20210802000003&pgno=1'"
      ]
     },
     "execution_count": 28,
     "metadata": {},
     "output_type": "execute_result"
    }
   ],
   "source": [
    "a"
   ]
  },
  {
   "cell_type": "code",
   "execution_count": 38,
   "metadata": {},
   "outputs": [],
   "source": []
  },
  {
   "cell_type": "code",
   "execution_count": 40,
   "metadata": {},
   "outputs": [
    {
     "data": {
      "text/plain": [
       "'인정호운전자님을칭찬합니다항상반갑게맞아주셔서기분이좋고이동중에도웃는모습을보면서저도좋았습니다감사합니다'"
      ]
     },
     "execution_count": 40,
     "metadata": {},
     "output_type": "execute_result"
    }
   ],
   "source": [
    "res = requests.get(a)\n",
    "so = BeautifulSoup(res.content, 'html.parser')\n",
    "re.sub('\\s', '', so.find('tbody').find('td', colspan=\"3\").text)"
   ]
  },
  {
   "cell_type": "code",
   "execution_count": 39,
   "metadata": {},
   "outputs": [
    {
     "data": {
      "text/plain": [
       "'     1'"
      ]
     },
     "execution_count": 39,
     "metadata": {},
     "output_type": "execute_result"
    }
   ],
   "source": [
    "re.sub('\\ㄴ', '', '     1')"
   ]
  },
  {
   "cell_type": "code",
   "execution_count": null,
   "metadata": {},
   "outputs": [],
   "source": []
  }
 ],
 "metadata": {
  "kernelspec": {
   "display_name": "Python 3",
   "language": "python",
   "name": "python3"
  },
  "language_info": {
   "codemirror_mode": {
    "name": "ipython",
    "version": 3
   },
   "file_extension": ".py",
   "mimetype": "text/x-python",
   "name": "python",
   "nbconvert_exporter": "python",
   "pygments_lexer": "ipython3",
   "version": "3.8.3"
  },
  "toc": {
   "base_numbering": 1,
   "nav_menu": {},
   "number_sections": true,
   "sideBar": true,
   "skip_h1_title": false,
   "title_cell": "Table of Contents",
   "title_sidebar": "Contents",
   "toc_cell": false,
   "toc_position": {},
   "toc_section_display": true,
   "toc_window_display": true
  }
 },
 "nbformat": 4,
 "nbformat_minor": 4
}
