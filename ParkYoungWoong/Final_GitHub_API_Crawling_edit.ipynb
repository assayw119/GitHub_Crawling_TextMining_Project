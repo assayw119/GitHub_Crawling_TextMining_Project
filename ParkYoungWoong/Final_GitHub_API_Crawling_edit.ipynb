{
 "cells": [
  {
   "cell_type": "code",
   "execution_count": 14,
   "metadata": {
    "scrolled": true
   },
   "outputs": [
    {
     "name": "stderr",
     "output_type": "stream",
     "text": [
      "WARNING: Ignoring invalid distribution -pype1 (c:\\users\\assay\\anaconda3\\lib\\site-packages)\n",
      "WARNING: Ignoring invalid distribution -pype1 (c:\\users\\assay\\anaconda3\\lib\\site-packages)\n",
      "ERROR: Could not find a version that satisfies the requirement json (from versions: none)\n",
      "ERROR: No matching distribution found for json\n",
      "WARNING: Ignoring invalid distribution -pype1 (c:\\users\\assay\\anaconda3\\lib\\site-packages)\n",
      "WARNING: Ignoring invalid distribution -pype1 (c:\\users\\assay\\anaconda3\\lib\\site-packages)\n",
      "WARNING: Ignoring invalid distribution -pype1 (c:\\users\\assay\\anaconda3\\lib\\site-packages)\n",
      "WARNING: Ignoring invalid distribution -pype1 (c:\\users\\assay\\anaconda3\\lib\\site-packages)\n",
      "ERROR: Could not find a version that satisfies the requirement urllib.request (from versions: none)\n",
      "ERROR: No matching distribution found for urllib.request\n",
      "WARNING: Ignoring invalid distribution -pype1 (c:\\users\\assay\\anaconda3\\lib\\site-packages)\n",
      "WARNING: Ignoring invalid distribution -pype1 (c:\\users\\assay\\anaconda3\\lib\\site-packages)\n"
     ]
    },
    {
     "name": "stdout",
     "output_type": "stream",
     "text": [
      "Requirement already satisfied: requests in c:\\users\\assay\\anaconda3\\lib\\site-packages (2.24.0)"
     ]
    },
    {
     "name": "stderr",
     "output_type": "stream",
     "text": [
      "WARNING: Ignoring invalid distribution -pype1 (c:\\users\\assay\\anaconda3\\lib\\site-packages)\n",
      "WARNING: Ignoring invalid distribution -pype1 (c:\\users\\assay\\anaconda3\\lib\\site-packages)\n",
      "WARNING: Ignoring invalid distribution -pype1 (c:\\users\\assay\\anaconda3\\lib\\site-packages)\n",
      "WARNING: Ignoring invalid distribution -pype1 (c:\\users\\assay\\anaconda3\\lib\\site-packages)\n",
      "WARNING: Ignoring invalid distribution -pype1 (c:\\users\\assay\\anaconda3\\lib\\site-packages)\n"
     ]
    },
    {
     "name": "stdout",
     "output_type": "stream",
     "text": [
      "\n",
      "Requirement already satisfied: urllib3!=1.25.0,!=1.25.1,<1.26,>=1.21.1 in c:\\users\\assay\\anaconda3\\lib\\site-packages (from requests) (1.25.9)\n",
      "Requirement already satisfied: idna<3,>=2.5 in c:\\users\\assay\\anaconda3\\lib\\site-packages (from requests) (2.10)\n",
      "Requirement already satisfied: certifi>=2017.4.17 in c:\\users\\assay\\anaconda3\\lib\\site-packages (from requests) (2021.10.8)\n",
      "Requirement already satisfied: chardet<4,>=3.0.2 in c:\\users\\assay\\anaconda3\\lib\\site-packages (from requests) (3.0.4)\n",
      "Requirement already satisfied: pandas in c:\\users\\assay\\anaconda3\\lib\\site-packages (1.3.1)\n",
      "Requirement already satisfied: numpy>=1.17.3 in c:\\users\\assay\\anaconda3\\lib\\site-packages (from pandas) (1.20.3)\n",
      "Requirement already satisfied: python-dateutil>=2.7.3 in c:\\users\\assay\\anaconda3\\lib\\site-packages (from pandas) (2.8.1)\n",
      "Requirement already satisfied: pytz>=2017.3 in c:\\users\\assay\\anaconda3\\lib\\site-packages (from pandas) (2020.1)\n",
      "Requirement already satisfied: six>=1.5 in c:\\users\\assay\\appdata\\roaming\\python\\python38\\site-packages (from python-dateutil>=2.7.3->pandas) (1.15.0)\n"
     ]
    },
    {
     "name": "stderr",
     "output_type": "stream",
     "text": [
      "WARNING: Ignoring invalid distribution -pype1 (c:\\users\\assay\\anaconda3\\lib\\site-packages)\n",
      "WARNING: Ignoring invalid distribution -pype1 (c:\\users\\assay\\anaconda3\\lib\\site-packages)\n",
      "WARNING: Ignoring invalid distribution -pype1 (c:\\users\\assay\\anaconda3\\lib\\site-packages)\n",
      "WARNING: Ignoring invalid distribution -pype1 (c:\\users\\assay\\anaconda3\\lib\\site-packages)\n",
      "WARNING: Ignoring invalid distribution -pype1 (c:\\users\\assay\\anaconda3\\lib\\site-packages)\n"
     ]
    },
    {
     "name": "stdout",
     "output_type": "stream",
     "text": [
      "Requirement already satisfied: numpy in c:\\users\\assay\\anaconda3\\lib\\site-packages (1.20.3)\n"
     ]
    },
    {
     "name": "stderr",
     "output_type": "stream",
     "text": [
      "WARNING: Ignoring invalid distribution -pype1 (c:\\users\\assay\\anaconda3\\lib\\site-packages)\n",
      "WARNING: Ignoring invalid distribution -pype1 (c:\\users\\assay\\anaconda3\\lib\\site-packages)\n",
      "WARNING: Ignoring invalid distribution -pype1 (c:\\users\\assay\\anaconda3\\lib\\site-packages)\n",
      "WARNING: Ignoring invalid distribution -pype1 (c:\\users\\assay\\anaconda3\\lib\\site-packages)\n",
      "WARNING: Ignoring invalid distribution -pype1 (c:\\users\\assay\\anaconda3\\lib\\site-packages)\n",
      "WARNING: Ignoring invalid distribution -pype1 (c:\\users\\assay\\anaconda3\\lib\\site-packages)\n",
      "WARNING: Ignoring invalid distribution -pype1 (c:\\users\\assay\\anaconda3\\lib\\site-packages)\n",
      "ERROR: Could not find a version that satisfies the requirement time (from versions: none)\n",
      "ERROR: No matching distribution found for time\n",
      "WARNING: Ignoring invalid distribution -pype1 (c:\\users\\assay\\anaconda3\\lib\\site-packages)\n",
      "WARNING: Ignoring invalid distribution -pype1 (c:\\users\\assay\\anaconda3\\lib\\site-packages)\n"
     ]
    }
   ],
   "source": [
    "! pip install json\n",
    "! pip install urllib.request\n",
    "! pip install requests\n",
    "! pip install pandas\n",
    "! pip install numpy\n",
    "! pip install time"
   ]
  },
  {
   "cell_type": "code",
   "execution_count": 15,
   "metadata": {},
   "outputs": [],
   "source": [
    "import json\n",
    "from urllib.request import urlopen\n",
    "import requests\n",
    "import pandas as pd\n",
    "import numpy as np\n",
    "import time"
   ]
  },
  {
   "cell_type": "code",
   "execution_count": 16,
   "metadata": {},
   "outputs": [],
   "source": [
    "def search(t):\n",
    "    \n",
    "    topic = t.replace(' ', '%20')\n",
    "    name_lst = []\n",
    "    type_lst = []\n",
    "    create_lst = []\n",
    "    size_lst = []\n",
    "    star_lst = []\n",
    "    fork_lst = []\n",
    "    login_lst = []\n",
    "    \n",
    "    i = 1\n",
    "    \n",
    "    while i <= 10:\n",
    "        \n",
    "        try:\n",
    "            response = urlopen('https://api.github.com/search/repositories?q={}&sort=stars&per_page=100&page={}'.format(topic, i)).read().decode('utf-8')\n",
    "\n",
    "        except:\n",
    "            print(\"{}페이지 오류발생 재귀호출 시작.\".format(i))\n",
    "            time.sleep(10)\n",
    "            continue\n",
    "            \n",
    "        responseJson = json.loads(response)\n",
    "\n",
    "        print(f'{i} response')\n",
    "\n",
    "        items = responseJson.get('items')\n",
    "        \n",
    "        for lst in items:\n",
    "            name = ''\n",
    "            typ = ''\n",
    "            create = ''\n",
    "            size = ''\n",
    "            star = ''\n",
    "            fork = ''\n",
    "            login = ''\n",
    "            \n",
    "            name = lst.get('name')\n",
    "            typ = lst.get('owner').get('type')\n",
    "            create = lst.get('created_at')\n",
    "            size = lst.get('size')\n",
    "            star = lst.get('stargazers_count')\n",
    "            fork = lst.get('forks_count')\n",
    "            login = lst.get('owner').get('login')\n",
    "\n",
    "            name_lst.append(name)\n",
    "            type_lst.append(typ)\n",
    "            create_lst.append(create)\n",
    "            size_lst.append(size)\n",
    "            star_lst.append(star)\n",
    "            fork_lst.append(fork)\n",
    "            login_lst.append(login)\n",
    "            \n",
    "        i += 1\n",
    "#         print('{} / {} / {} / {} / {} / {} / {}'.format(name, typ, create, size, star, fork, login))\n",
    "\n",
    "    df = pd.DataFrame([name_lst, type_lst, create_lst, size_lst, star_lst, fork_lst, login_lst])\n",
    "    df = df.transpose()\n",
    "    df.columns = ['name','type','created_at','size','stargazers_count','fork','login']\n",
    "    return df"
   ]
  },
  {
   "cell_type": "code",
   "execution_count": 21,
   "metadata": {
    "scrolled": false
   },
   "outputs": [
    {
     "name": "stdout",
     "output_type": "stream",
     "text": [
      "원하는 토픽을 입력해주세요. 여러개인경우 콤마로 구분하여 입력해주세요: deep learning, self driving, digital human\n",
      "1 response\n",
      "2 response\n",
      "3 response\n",
      "4 response\n",
      "5 response\n",
      "6 response\n",
      "7 response\n",
      "8 response\n",
      "9 response\n",
      "10 response\n",
      "deep learning_API_Crawling.xlsx 저장 완료\n",
      "1페이지 오류발생 재귀호출 시작.\n",
      "1페이지 오류발생 재귀호출 시작.\n",
      "1페이지 오류발생 재귀호출 시작.\n",
      "1페이지 오류발생 재귀호출 시작.\n",
      "1 response\n",
      "2 response\n",
      "3 response\n",
      "4 response\n",
      "5 response\n",
      "6 response\n",
      "7 response\n",
      "8 response\n",
      "9 response\n",
      "10 response\n",
      "self driving_API_Crawling.xlsx 저장 완료\n",
      "1페이지 오류발생 재귀호출 시작.\n",
      "1페이지 오류발생 재귀호출 시작.\n",
      "1페이지 오류발생 재귀호출 시작.\n",
      "1페이지 오류발생 재귀호출 시작.\n",
      "1 response\n",
      "2 response\n",
      "3 response\n",
      "4 response\n",
      "5 response\n",
      "6 response\n",
      "7 response\n",
      "8 response\n",
      "9 response\n",
      "10 response\n",
      "digital human_API_Crawling.xlsx 저장 완료\n"
     ]
    }
   ],
   "source": [
    "# 원하는 topic 설정\n",
    "# topics = deep learning, self driving, digital human\n",
    "t = input('원하는 토픽을 입력해주세요. 여러개인경우 콤마로 구분하여 입력해주세요: ')\n",
    "t_ = t.split(',')\n",
    "topics = []\n",
    "for i in t_:\n",
    "    topics.append(i.strip())\n",
    "\n",
    "\n",
    "# 엑셀파일 하나씩 생성하고 싶은 경우\n",
    "\n",
    "for i in topics:\n",
    "    df_topic = search(i)\n",
    "    df_topic.to_excel(f'{i}_API_Crawling.xlsx')\n",
    "    print(f'{i}_API_Crawling.xlsx 저장 완료')\n",
    "\n",
    "# 한 엑셀파일 내 각 시트에 생성에 생성하고 싶은 경우\n",
    "\n",
    "# with pd.ExcelWriter('API_Crawling.xlsx') as writer:\n",
    "#     for i in topics:\n",
    "#         df_topic = search(i)\n",
    "#         df_topic.to_excel(writer, sheet_name=i)"
   ]
  },
  {
   "cell_type": "markdown",
   "metadata": {},
   "source": [
    "### 해당 ipynb 경로에 토픽명_API_Crawling.xlsx 파일 형태로 저장"
   ]
  }
 ],
 "metadata": {
  "kernelspec": {
   "display_name": "Python 3",
   "language": "python",
   "name": "python3"
  },
  "language_info": {
   "codemirror_mode": {
    "name": "ipython",
    "version": 3
   },
   "file_extension": ".py",
   "mimetype": "text/x-python",
   "name": "python",
   "nbconvert_exporter": "python",
   "pygments_lexer": "ipython3",
   "version": "3.8.11"
  }
 },
 "nbformat": 4,
 "nbformat_minor": 4
}
