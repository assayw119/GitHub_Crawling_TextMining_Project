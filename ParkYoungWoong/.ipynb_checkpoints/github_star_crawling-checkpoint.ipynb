{
 "cells": [
  {
   "cell_type": "code",
   "execution_count": 114,
   "metadata": {},
   "outputs": [],
   "source": [
    "import re\n",
    "import requests\n",
    "from bs4 import BeautifulSoup"
   ]
  },
  {
   "cell_type": "code",
   "execution_count": 128,
   "metadata": {
    "scrolled": false
   },
   "outputs": [
    {
     "name": "stdout",
     "output_type": "stream",
     "text": [
      "< 1 page >\n",
      "<a class=\"v-align-middle\" data-hydro-click='{\"event_type\":\"search_result.click\",\"payload\":{\"page_number\":1,\"per_page\":10,\"query\":\"stars:&gt;10000\",\"result_position\":1,\"click_id\":28457823,\"result\":{\"id\":28457823,\"global_relay_id\":\"MDEwOlJlcG9zaXRvcnkyODQ1NzgyMw==\",\"model_name\":\"Repository\",\"url\":\"https://github.com/freeCodeCamp/freeCodeCamp\"},\"originating_url\":\"https://github.com/search?p=1&amp;q=stars%3A%3E10000&amp;type=Repositories\",\"user_id\":null}}' data-hydro-click-hmac=\"490a5d83149142f75c083467670932cee51522f62b453e6e02cf6a6b2e6a51cc\" href=\"/freeCodeCamp/freeCodeCamp\">freeCodeCamp/freeCodeCamp</a>\n",
      "< 2 page >\n",
      "<a class=\"v-align-middle\" data-hydro-click='{\"event_type\":\"search_result.click\",\"payload\":{\"page_number\":2,\"per_page\":10,\"query\":\"stars:&gt;10000\",\"result_position\":1,\"click_id\":54346799,\"result\":{\"id\":54346799,\"global_relay_id\":\"MDEwOlJlcG9zaXRvcnk1NDM0Njc5OQ==\",\"model_name\":\"Repository\",\"url\":\"https://github.com/public-apis/public-apis\"},\"originating_url\":\"https://github.com/search?p=2&amp;q=stars%3A%3E10000&amp;type=Repositories\",\"user_id\":null}}' data-hydro-click-hmac=\"d225aeca7a51af8dd6f00268148f8d5f8a26bd195141759b44d6efce0571a7d7\" href=\"/public-apis/public-apis\">public-apis/public-apis</a>\n",
      "< 3 page >\n"
     ]
    },
    {
     "ename": "AttributeError",
     "evalue": "'NoneType' object has no attribute 'find'",
     "output_type": "error",
     "traceback": [
      "\u001b[1;31m---------------------------------------------------------------------------\u001b[0m",
      "\u001b[1;31mAttributeError\u001b[0m                            Traceback (most recent call last)",
      "\u001b[1;32m<ipython-input-128-e3ce436e8109>\u001b[0m in \u001b[0;36m<module>\u001b[1;34m\u001b[0m\n\u001b[0;32m     11\u001b[0m \u001b[1;33m\u001b[0m\u001b[0m\n\u001b[0;32m     12\u001b[0m     \u001b[0mcontents\u001b[0m \u001b[1;33m=\u001b[0m \u001b[0msoup\u001b[0m\u001b[1;33m.\u001b[0m\u001b[0mfind\u001b[0m\u001b[1;33m(\u001b[0m\u001b[1;34m'ul'\u001b[0m\u001b[1;33m,\u001b[0m\u001b[0mattrs\u001b[0m\u001b[1;33m=\u001b[0m\u001b[1;33m{\u001b[0m\u001b[1;34m'class'\u001b[0m\u001b[1;33m:\u001b[0m\u001b[1;34m'repo-list'\u001b[0m\u001b[1;33m}\u001b[0m\u001b[1;33m)\u001b[0m\u001b[1;33m\u001b[0m\u001b[1;33m\u001b[0m\u001b[0m\n\u001b[1;32m---> 13\u001b[1;33m     \u001b[0mprint\u001b[0m\u001b[1;33m(\u001b[0m\u001b[0mcontents\u001b[0m\u001b[1;33m.\u001b[0m\u001b[0mfind\u001b[0m\u001b[1;33m(\u001b[0m\u001b[1;34m'a'\u001b[0m\u001b[1;33m)\u001b[0m\u001b[1;33m)\u001b[0m\u001b[1;33m\u001b[0m\u001b[1;33m\u001b[0m\u001b[0m\n\u001b[0m",
      "\u001b[1;31mAttributeError\u001b[0m: 'NoneType' object has no attribute 'find'"
     ]
    }
   ],
   "source": [
    "\n",
    "result = []\n",
    "\n",
    "for n in range(1,10):\n",
    "    print('< {} page >'.format(n))\n",
    "#     params = { \n",
    "#         'p' : n\n",
    "#     }\n",
    "    url = 'https://github.com/search?p={}&q=stars%3A%3E10000&type=Repositories'.format(n)\n",
    "    response = requests.get(url)\n",
    "    soup = BeautifulSoup(response.content, 'html.parser')\n",
    "    \n",
    "    contents = soup.find('ul',attrs={'class':'repo-list'})\n",
    "    print(contents.find('a'))"
   ]
  },
  {
   "cell_type": "code",
   "execution_count": 103,
   "metadata": {
    "scrolled": true
   },
   "outputs": [
    {
     "data": {
      "text/plain": [
       "['https://github.com/search?p=1&q=stars%3A%3E10000&type=Repositories',\n",
       " 'https://github.com/search?p=2&q=stars%3A%3E10000&type=Repositories',\n",
       " 'https://github.com/search?p=3&q=stars%3A%3E10000&type=Repositories',\n",
       " 'https://github.com/search?p=4&q=stars%3A%3E10000&type=Repositories',\n",
       " 'https://github.com/search?p=5&q=stars%3A%3E10000&type=Repositories',\n",
       " 'https://github.com/search?p=6&q=stars%3A%3E10000&type=Repositories',\n",
       " 'https://github.com/search?p=7&q=stars%3A%3E10000&type=Repositories',\n",
       " 'https://github.com/search?p=8&q=stars%3A%3E10000&type=Repositories',\n",
       " 'https://github.com/search?p=9&q=stars%3A%3E10000&type=Repositories',\n",
       " 'https://github.com/search?p=10&q=stars%3A%3E10000&type=Repositories',\n",
       " 'https://github.com/search?p=11&q=stars%3A%3E10000&type=Repositories',\n",
       " 'https://github.com/search?p=12&q=stars%3A%3E10000&type=Repositories',\n",
       " 'https://github.com/search?p=13&q=stars%3A%3E10000&type=Repositories',\n",
       " 'https://github.com/search?p=14&q=stars%3A%3E10000&type=Repositories',\n",
       " 'https://github.com/search?p=15&q=stars%3A%3E10000&type=Repositories',\n",
       " 'https://github.com/search?p=16&q=stars%3A%3E10000&type=Repositories',\n",
       " 'https://github.com/search?p=17&q=stars%3A%3E10000&type=Repositories',\n",
       " 'https://github.com/search?p=18&q=stars%3A%3E10000&type=Repositories',\n",
       " 'https://github.com/search?p=19&q=stars%3A%3E10000&type=Repositories',\n",
       " 'https://github.com/search?p=20&q=stars%3A%3E10000&type=Repositories',\n",
       " 'https://github.com/search?p=21&q=stars%3A%3E10000&type=Repositories',\n",
       " 'https://github.com/search?p=22&q=stars%3A%3E10000&type=Repositories',\n",
       " 'https://github.com/search?p=23&q=stars%3A%3E10000&type=Repositories',\n",
       " 'https://github.com/search?p=24&q=stars%3A%3E10000&type=Repositories',\n",
       " 'https://github.com/search?p=25&q=stars%3A%3E10000&type=Repositories',\n",
       " 'https://github.com/search?p=26&q=stars%3A%3E10000&type=Repositories',\n",
       " 'https://github.com/search?p=27&q=stars%3A%3E10000&type=Repositories',\n",
       " 'https://github.com/search?p=28&q=stars%3A%3E10000&type=Repositories',\n",
       " 'https://github.com/search?p=29&q=stars%3A%3E10000&type=Repositories',\n",
       " 'https://github.com/search?p=30&q=stars%3A%3E10000&type=Repositories',\n",
       " 'https://github.com/search?p=31&q=stars%3A%3E10000&type=Repositories',\n",
       " 'https://github.com/search?p=32&q=stars%3A%3E10000&type=Repositories',\n",
       " 'https://github.com/search?p=33&q=stars%3A%3E10000&type=Repositories',\n",
       " 'https://github.com/search?p=34&q=stars%3A%3E10000&type=Repositories',\n",
       " 'https://github.com/search?p=35&q=stars%3A%3E10000&type=Repositories',\n",
       " 'https://github.com/search?p=36&q=stars%3A%3E10000&type=Repositories',\n",
       " 'https://github.com/search?p=37&q=stars%3A%3E10000&type=Repositories',\n",
       " 'https://github.com/search?p=38&q=stars%3A%3E10000&type=Repositories',\n",
       " 'https://github.com/search?p=39&q=stars%3A%3E10000&type=Repositories',\n",
       " 'https://github.com/search?p=40&q=stars%3A%3E10000&type=Repositories',\n",
       " 'https://github.com/search?p=41&q=stars%3A%3E10000&type=Repositories',\n",
       " 'https://github.com/search?p=42&q=stars%3A%3E10000&type=Repositories',\n",
       " 'https://github.com/search?p=43&q=stars%3A%3E10000&type=Repositories',\n",
       " 'https://github.com/search?p=44&q=stars%3A%3E10000&type=Repositories',\n",
       " 'https://github.com/search?p=45&q=stars%3A%3E10000&type=Repositories',\n",
       " 'https://github.com/search?p=46&q=stars%3A%3E10000&type=Repositories',\n",
       " 'https://github.com/search?p=47&q=stars%3A%3E10000&type=Repositories',\n",
       " 'https://github.com/search?p=48&q=stars%3A%3E10000&type=Repositories',\n",
       " 'https://github.com/search?p=49&q=stars%3A%3E10000&type=Repositories',\n",
       " 'https://github.com/search?p=50&q=stars%3A%3E10000&type=Repositories',\n",
       " 'https://github.com/search?p=51&q=stars%3A%3E10000&type=Repositories',\n",
       " 'https://github.com/search?p=52&q=stars%3A%3E10000&type=Repositories',\n",
       " 'https://github.com/search?p=53&q=stars%3A%3E10000&type=Repositories',\n",
       " 'https://github.com/search?p=54&q=stars%3A%3E10000&type=Repositories',\n",
       " 'https://github.com/search?p=55&q=stars%3A%3E10000&type=Repositories',\n",
       " 'https://github.com/search?p=56&q=stars%3A%3E10000&type=Repositories',\n",
       " 'https://github.com/search?p=57&q=stars%3A%3E10000&type=Repositories',\n",
       " 'https://github.com/search?p=58&q=stars%3A%3E10000&type=Repositories',\n",
       " 'https://github.com/search?p=59&q=stars%3A%3E10000&type=Repositories',\n",
       " 'https://github.com/search?p=60&q=stars%3A%3E10000&type=Repositories',\n",
       " 'https://github.com/search?p=61&q=stars%3A%3E10000&type=Repositories',\n",
       " 'https://github.com/search?p=62&q=stars%3A%3E10000&type=Repositories',\n",
       " 'https://github.com/search?p=63&q=stars%3A%3E10000&type=Repositories',\n",
       " 'https://github.com/search?p=64&q=stars%3A%3E10000&type=Repositories',\n",
       " 'https://github.com/search?p=65&q=stars%3A%3E10000&type=Repositories',\n",
       " 'https://github.com/search?p=66&q=stars%3A%3E10000&type=Repositories',\n",
       " 'https://github.com/search?p=67&q=stars%3A%3E10000&type=Repositories',\n",
       " 'https://github.com/search?p=68&q=stars%3A%3E10000&type=Repositories',\n",
       " 'https://github.com/search?p=69&q=stars%3A%3E10000&type=Repositories',\n",
       " 'https://github.com/search?p=70&q=stars%3A%3E10000&type=Repositories',\n",
       " 'https://github.com/search?p=71&q=stars%3A%3E10000&type=Repositories',\n",
       " 'https://github.com/search?p=72&q=stars%3A%3E10000&type=Repositories',\n",
       " 'https://github.com/search?p=73&q=stars%3A%3E10000&type=Repositories',\n",
       " 'https://github.com/search?p=74&q=stars%3A%3E10000&type=Repositories',\n",
       " 'https://github.com/search?p=75&q=stars%3A%3E10000&type=Repositories',\n",
       " 'https://github.com/search?p=76&q=stars%3A%3E10000&type=Repositories',\n",
       " 'https://github.com/search?p=77&q=stars%3A%3E10000&type=Repositories',\n",
       " 'https://github.com/search?p=78&q=stars%3A%3E10000&type=Repositories',\n",
       " 'https://github.com/search?p=79&q=stars%3A%3E10000&type=Repositories',\n",
       " 'https://github.com/search?p=80&q=stars%3A%3E10000&type=Repositories',\n",
       " 'https://github.com/search?p=81&q=stars%3A%3E10000&type=Repositories',\n",
       " 'https://github.com/search?p=82&q=stars%3A%3E10000&type=Repositories',\n",
       " 'https://github.com/search?p=83&q=stars%3A%3E10000&type=Repositories',\n",
       " 'https://github.com/search?p=84&q=stars%3A%3E10000&type=Repositories',\n",
       " 'https://github.com/search?p=85&q=stars%3A%3E10000&type=Repositories',\n",
       " 'https://github.com/search?p=86&q=stars%3A%3E10000&type=Repositories',\n",
       " 'https://github.com/search?p=87&q=stars%3A%3E10000&type=Repositories',\n",
       " 'https://github.com/search?p=88&q=stars%3A%3E10000&type=Repositories',\n",
       " 'https://github.com/search?p=89&q=stars%3A%3E10000&type=Repositories',\n",
       " 'https://github.com/search?p=90&q=stars%3A%3E10000&type=Repositories',\n",
       " 'https://github.com/search?p=91&q=stars%3A%3E10000&type=Repositories',\n",
       " 'https://github.com/search?p=92&q=stars%3A%3E10000&type=Repositories',\n",
       " 'https://github.com/search?p=93&q=stars%3A%3E10000&type=Repositories',\n",
       " 'https://github.com/search?p=94&q=stars%3A%3E10000&type=Repositories',\n",
       " 'https://github.com/search?p=95&q=stars%3A%3E10000&type=Repositories',\n",
       " 'https://github.com/search?p=96&q=stars%3A%3E10000&type=Repositories',\n",
       " 'https://github.com/search?p=97&q=stars%3A%3E10000&type=Repositories',\n",
       " 'https://github.com/search?p=98&q=stars%3A%3E10000&type=Repositories',\n",
       " 'https://github.com/search?p=99&q=stars%3A%3E10000&type=Repositories',\n",
       " 'https://github.com/search?p=100&q=stars%3A%3E10000&type=Repositories']"
      ]
     },
     "execution_count": 103,
     "metadata": {},
     "output_type": "execute_result"
    }
   ],
   "source": [
    "url_list = []\n",
    "for n in range(1,101):\n",
    "    url = 'https://github.com/search?p={}&q=stars%3A%3E10000&type=Repositories'.format(n)\n",
    "    url_list.append(url)\n",
    "\n",
    "url_list\n",
    "    "
   ]
  },
  {
   "cell_type": "code",
   "execution_count": 105,
   "metadata": {},
   "outputs": [
    {
     "ename": "AttributeError",
     "evalue": "'NoneType' object has no attribute 'find'",
     "output_type": "error",
     "traceback": [
      "\u001b[1;31m---------------------------------------------------------------------------\u001b[0m",
      "\u001b[1;31mAttributeError\u001b[0m                            Traceback (most recent call last)",
      "\u001b[1;32m<ipython-input-105-4f693c4be251>\u001b[0m in \u001b[0;36m<module>\u001b[1;34m\u001b[0m\n\u001b[0;32m      3\u001b[0m     \u001b[0mresp\u001b[0m \u001b[1;33m=\u001b[0m \u001b[0mrequests\u001b[0m\u001b[1;33m.\u001b[0m\u001b[0mget\u001b[0m\u001b[1;33m(\u001b[0m\u001b[0murl_\u001b[0m\u001b[1;33m)\u001b[0m\u001b[1;33m\u001b[0m\u001b[1;33m\u001b[0m\u001b[0m\n\u001b[0;32m      4\u001b[0m     \u001b[0msoup\u001b[0m \u001b[1;33m=\u001b[0m \u001b[0mBeautifulSoup\u001b[0m\u001b[1;33m(\u001b[0m\u001b[0mresp\u001b[0m\u001b[1;33m.\u001b[0m\u001b[0mcontent\u001b[0m\u001b[1;33m,\u001b[0m \u001b[1;34m'html.parser'\u001b[0m\u001b[1;33m)\u001b[0m\u001b[1;33m\u001b[0m\u001b[1;33m\u001b[0m\u001b[0m\n\u001b[1;32m----> 5\u001b[1;33m     \u001b[0mcontents\u001b[0m \u001b[1;33m=\u001b[0m \u001b[0msoup\u001b[0m\u001b[1;33m.\u001b[0m\u001b[0mfind\u001b[0m\u001b[1;33m(\u001b[0m\u001b[1;34m'div'\u001b[0m\u001b[1;33m,\u001b[0m \u001b[0mattrs\u001b[0m\u001b[1;33m=\u001b[0m\u001b[1;33m{\u001b[0m\u001b[1;34m'class'\u001b[0m\u001b[1;33m:\u001b[0m\u001b[1;34m'px-2'\u001b[0m\u001b[1;33m}\u001b[0m\u001b[1;33m)\u001b[0m\u001b[1;33m.\u001b[0m\u001b[0mfind\u001b[0m\u001b[1;33m(\u001b[0m\u001b[1;34m'ul'\u001b[0m\u001b[1;33m)\u001b[0m\u001b[1;33m\u001b[0m\u001b[1;33m\u001b[0m\u001b[0m\n\u001b[0m\u001b[0;32m      6\u001b[0m \u001b[1;33m\u001b[0m\u001b[0m\n\u001b[0;32m      7\u001b[0m     \u001b[1;32mfor\u001b[0m \u001b[0mj\u001b[0m \u001b[1;32min\u001b[0m \u001b[0mcontents\u001b[0m\u001b[1;33m.\u001b[0m\u001b[0mfind_all\u001b[0m\u001b[1;33m(\u001b[0m\u001b[1;34m'a'\u001b[0m\u001b[1;33m)\u001b[0m\u001b[1;33m:\u001b[0m\u001b[1;33m\u001b[0m\u001b[1;33m\u001b[0m\u001b[0m\n",
      "\u001b[1;31mAttributeError\u001b[0m: 'NoneType' object has no attribute 'find'"
     ]
    }
   ],
   "source": [
    "for i in range(len(url_list)):\n",
    "    url_ = url_list[i]\n",
    "    resp = requests.get(url_)\n",
    "    soup = BeautifulSoup(resp.content, 'html.parser')\n",
    "    contents = soup.find('div', attrs={'class':'px-2'}).find('ul')\n",
    "    \n",
    "    for j in contents.find_all('a'):\n",
    "        print(j.text)"
   ]
  },
  {
   "cell_type": "code",
   "execution_count": null,
   "metadata": {},
   "outputs": [],
   "source": []
  }
 ],
 "metadata": {
  "kernelspec": {
   "display_name": "Python 3",
   "language": "python",
   "name": "python3"
  },
  "language_info": {
   "codemirror_mode": {
    "name": "ipython",
    "version": 3
   },
   "file_extension": ".py",
   "mimetype": "text/x-python",
   "name": "python",
   "nbconvert_exporter": "python",
   "pygments_lexer": "ipython3",
   "version": "3.8.3"
  }
 },
 "nbformat": 4,
 "nbformat_minor": 4
}
